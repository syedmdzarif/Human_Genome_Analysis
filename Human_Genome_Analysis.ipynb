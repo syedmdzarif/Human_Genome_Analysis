{
  "nbformat": 4,
  "nbformat_minor": 0,
  "metadata": {
    "colab": {
      "provenance": []
    },
    "kernelspec": {
      "name": "python3",
      "display_name": "Python 3"
    },
    "language_info": {
      "name": "python"
    }
  },
  "cells": [
    {
      "cell_type": "markdown",
      "source": [
        "# **Data Collection**"
      ],
      "metadata": {
        "id": "mNLmZ8yBREBm"
      }
    },
    {
      "cell_type": "code",
      "source": [
        "# The first thing to do is open our file with the downloaded FASTA data file.\n",
        "data = open('Homo_sapiens.GRCh38.dna.chromosome.21.fa', 'r')\n",
        "\n",
        "# Read the contents of the file, and display the first 1500 bases (since we don't\n",
        "  # want to print all 48 million-something bases - that would likely result in an\n",
        "  # overflow). This is just to check that the data was read in properly.\n",
        "dna_seq = data.read()\n",
        "print(\"DATA FILE: \\n\" + dna_seq[:1500] + \"\\n\")\n",
        "print(\"DNA SEQUENCE LENGTH:\" + str(len(dna_seq)) + \"\\n\")\n",
        "\n",
        "# Extract the FASTA header to separate it out from the genetic code.\n",
        "fasta_header = dna_seq.partition('\\n')[0]\n",
        "print(\"FASTA HEADER\" + fasta_header)"
      ],
      "metadata": {
        "colab": {
          "base_uri": "https://localhost:8080/"
        },
        "id": "zO08reGEbD7R",
        "outputId": "0e494a1d-eea4-4133-c2f6-b79dd19cbf8d"
      },
      "execution_count": null,
      "outputs": [
        {
          "output_type": "stream",
          "name": "stdout",
          "text": [
            "DATA FILE: \n",
            ">21 dna:chromosome chromosome:GRCh38:21:1:46709983:1 REF\n",
            "NNNNNNNNNNNNNNNNNNNNNNNNNNNNNNNNNNNNNNNNNNNNNNNNNNNNNNNNNNNN\n",
            "NNNNNNNNNNNNNNNNNNNNNNNNNNNNNNNNNNNNNNNNNNNNNNNNNNNNNNNNNNNN\n",
            "NNNNNNNNNNNNNNNNNNNNNNNNNNNNNNNNNNNNNNNNNNNNNNNNNNNNNNNNNNNN\n",
            "NNNNNNNNNNNNNNNNNNNNNNNNNNNNNNNNNNNNNNNNNNNNNNNNNNNNNNNNNNNN\n",
            "NNNNNNNNNNNNNNNNNNNNNNNNNNNNNNNNNNNNNNNNNNNNNNNNNNNNNNNNNNNN\n",
            "NNNNNNNNNNNNNNNNNNNNNNNNNNNNNNNNNNNNNNNNNNNNNNNNNNNNNNNNNNNN\n",
            "NNNNNNNNNNNNNNNNNNNNNNNNNNNNNNNNNNNNNNNNNNNNNNNNNNNNNNNNNNNN\n",
            "NNNNNNNNNNNNNNNNNNNNNNNNNNNNNNNNNNNNNNNNNNNNNNNNNNNNNNNNNNNN\n",
            "NNNNNNNNNNNNNNNNNNNNNNNNNNNNNNNNNNNNNNNNNNNNNNNNNNNNNNNNNNNN\n",
            "NNNNNNNNNNNNNNNNNNNNNNNNNNNNNNNNNNNNNNNNNNNNNNNNNNNNNNNNNNNN\n",
            "NNNNNNNNNNNNNNNNNNNNNNNNNNNNNNNNNNNNNNNNNNNNNNNNNNNNNNNNNNNN\n",
            "NNNNNNNNNNNNNNNNNNNNNNNNNNNNNNNNNNNNNNNNNNNNNNNNNNNNNNNNNNNN\n",
            "NNNNNNNNNNNNNNNNNNNNNNNNNNNNNNNNNNNNNNNNNNNNNNNNNNNNNNNNNNNN\n",
            "NNNNNNNNNNNNNNNNNNNNNNNNNNNNNNNNNNNNNNNNNNNNNNNNNNNNNNNNNNNN\n",
            "NNNNNNNNNNNNNNNNNNNNNNNNNNNNNNNNNNNNNNNNNNNNNNNNNNNNNNNNNNNN\n",
            "NNNNNNNNNNNNNNNNNNNNNNNNNNNNNNNNNNNNNNNNNNNNNNNNNNNNNNNNNNNN\n",
            "NNNNNNNNNNNNNNNNNNNNNNNNNNNNNNNNNNNNNNNNNNNNNNNNNNNNNNNNNNNN\n",
            "NNNNNNNNNNNNNNNNNNNNNNNNNNNNNNNNNNNNNNNNNNNNNNNNNNNNNNNNNNNN\n",
            "NNNNNNNNNNNNNNNNNNNNNNNNNNNNNNNNNNNNNNNNNNNNNNNNNNNNNNNNNNNN\n",
            "NNNNNNNNNNNNNNNNNNNNNNNNNNNNNNNNNNNNNNNNNNNNNNNNNNNNNNNNNNNN\n",
            "NNNNNNNNNNNNNNNNNNNNNNNNNNNNNNNNNNNNNNNNNNNNNNNNNNNNNNNNNNNN\n",
            "NNNNNNNNNNNNNNNNNNNNNNNNNNNNNNNNNNNNNNNNNNNNNNNNNNNNNNNNNNNN\n",
            "NNNNNNNNNNNNNNNNNNNNNNNNNNNNNNNNNNNNNNNNNNNNNNNNNNNNNNNNNNNN\n",
            "NNNNNNNNNNNNNNNNNNNNNNNNNNNNNNNNNNNNNNNN\n",
            "\n",
            "DNA SEQUENCE LENGTH:24117248\n",
            "\n",
            "FASTA HEADER>21 dna:chromosome chromosome:GRCh38:21:1:46709983:1 REF\n"
          ]
        }
      ]
    },
    {
      "cell_type": "markdown",
      "source": [
        "Sequencer is uncerain about the specific bases (A, T, C, G). Thus, the output is N, which represents any one of the four basic nucleotides. Thus, data processing is required to determine the base."
      ],
      "metadata": {
        "id": "J3J9SE2OSieU"
      }
    },
    {
      "cell_type": "markdown",
      "source": [
        "# **Data Preprocessing**\n"
      ],
      "metadata": {
        "id": "mfgLabbtRMR5"
      }
    },
    {
      "cell_type": "code",
      "source": [
        "# Remove the FASTA header from the sequence data.\n",
        "print(\"HEADER LENGTH = \" + str(len(fasta_header)) + \"\\n\")\n",
        "dna_seq = dna_seq[56:]\n",
        "\n",
        "seq_len = len(dna_seq) # DNA sequence length\n",
        "print(\"FASTA DATA SEQUENCE LENGTH = \" + str(seq_len) + \"\\n\")"
      ],
      "metadata": {
        "id": "T1Uh3ij3CyJ5",
        "outputId": "b158249a-4fab-4e6a-c5c5-ce637dbfc42e",
        "colab": {
          "base_uri": "https://localhost:8080/"
        }
      },
      "execution_count": null,
      "outputs": [
        {
          "output_type": "stream",
          "name": "stdout",
          "text": [
            "HEADER LENGTH = 56\n",
            "\n",
            "FASTA DATA SEQUENCE LENGTH = 24117192\n",
            "\n"
          ]
        }
      ]
    },
    {
      "cell_type": "markdown",
      "source": [
        "Header information confirms the species."
      ],
      "metadata": {
        "id": "o2OD_FAfTERs"
      }
    },
    {
      "cell_type": "code",
      "execution_count": null,
      "metadata": {
        "colab": {
          "base_uri": "https://localhost:8080/"
        },
        "id": "iDWwc0uVCfgn",
        "outputId": "9b05b613-e46f-44e7-adf9-b63c7b0aa45a"
      },
      "outputs": [
        {
          "output_type": "stream",
          "name": "stdout",
          "text": [
            "6740684\n",
            "8184003\n",
            "8354160\n"
          ]
        }
      ],
      "source": [
        "# Find positions in the middle of the sequence which contain 'N'.\n",
        "for pos in range (1, len(dna_seq) - 1):\n",
        "  if dna_seq[pos] == 'N':\n",
        "    if dna_seq[pos - 1] != 'N' and dna_seq[pos + 1] != 'N':\n",
        "      print(pos)"
      ]
    },
    {
      "cell_type": "markdown",
      "source": [
        "N mostly only appears at the beginnning and end of the sequence. We must remove them but not from the middle, as it may cause Frameshift Mutation, which is when a singular base is inserted or deleted from the DNA sequence, causing all other bases to shift by one."
      ],
      "metadata": {
        "id": "h3WeQbHuTVcZ"
      }
    },
    {
      "cell_type": "code",
      "source": [
        "# Function that finds the start of the well-identified coding region (A, C, G,\n",
        "  # and T instead of N)\n",
        "def find_start_coding_region(seq):\n",
        "  for pos in range(1, len(seq) - 1):\n",
        "    # We need to check if the position two bases out from the current position\n",
        "      # is also not 'N' because there could be a newline character in the following\n",
        "      # position.\n",
        "    if seq[pos] == 'N' and seq[pos + 1] != 'N' and seq[pos + 2] != 'N':\n",
        "      return pos + 1\n",
        "\n",
        "# Function that find the position of the last chunk of unidentified region in\n",
        "  # the sequence (long string of N's)\n",
        "def find_end_coding_region(seq):\n",
        "  last_N_chunk = 0\n",
        "  for pos in range(1, len(seq) - 1):\n",
        "    # Similarly, we need to check whether two positions before the current position\n",
        "      # is not an 'N'.\n",
        "    if seq[pos] == 'N' and seq[pos - 1] != 'N' and seq[pos - 2] != 'N':\n",
        "      last_N_chunk = pos\n",
        "  return last_N_chunk - 1 # Return the last occurence (at the very end of the sequence)\n",
        "\n",
        "# Store these start and end positions (the sequence in between we'll call our\n",
        "  # \"coding region\")\n",
        "start_coding_region = find_start_coding_region(dna_seq)\n",
        "print(\"Start coding region: \" + str(start_coding_region))\n",
        "\n",
        "end_coding_region = find_end_coding_region(dna_seq)\n",
        "print(\"End coding region: \" + str(end_coding_region))\n",
        "\n",
        "print(\"Length of N's at end :\" + str(seq_len - end_coding_region))\n",
        "\n",
        "print(\"Sequence length remaning: \" + str(seq_len - start_coding_region - (seq_len - end_coding_region)))"
      ],
      "metadata": {
        "colab": {
          "base_uri": "https://localhost:8080/"
        },
        "id": "tl4cxp418r0Y",
        "outputId": "9af8e937-ea84-4228-bdb6-d8076f743644"
      },
      "execution_count": null,
      "outputs": [
        {
          "output_type": "stream",
          "name": "stdout",
          "text": [
            "Start coding region: 5093500\n",
            "End coding region: 13131071\n",
            "Length of N's at end :10986121\n",
            "Sequence length remaning: 8037571\n"
          ]
        }
      ]
    },
    {
      "cell_type": "markdown",
      "source": [
        "We discovered that there are 5,093,500 unidentified bases at the beginning of the sequence and 10,168 bases at the end. That's a lot of bases to remove, but we still have 42,385,816 bases remaining in the sequence.\n",
        "\n",
        "Now, we'll clean up the DNA sequence further by removing all the newline characters. For further analysis, we need the sequence to be one long string without any whitespace in between nucleotides [nucleotides are synonymous with bases]."
      ],
      "metadata": {
        "id": "r1Ch-oVyUblA"
      }
    },
    {
      "cell_type": "code",
      "source": [
        "# Since the sequence contains over 47 million base pairs, trying to parse all\n",
        "  # the data at once requires too much processing power and results in a runtime\n",
        "  # disconnect error. To work around this issue, we'll parse the sequence in\n",
        "  # chunks of four, of size 10 million base pairs in each iteration.\n",
        "\n",
        "# Start and end position for sequence parse in first iteration of loop\n",
        "start_pos = start_coding_region\n",
        "end_pos = 10000000\n",
        "\n",
        "# We'll build up a new sequence of the modified DNA, with all '\\n removed.\n",
        "mod_dna_seq = \"\"\n",
        "\n",
        "# Modify DNA sequence to remove all \\n' chars\n",
        "print(\"Modifying DNA Sequence\")\n",
        "while end_pos < end_coding_region:\n",
        "  dna_chunk = dna_seq[start_pos: end_pos].replace('\\n', '') # Remove each instance of '\\n'\n",
        "  mod_dna_seq += dna_chunk # Build up modified DNA sequence\n",
        "  # Print the start and end positions in each iteration to make sure we're parsing\n",
        "    # all segments of the sequence\n",
        "  print(\"start: \" + str(start_pos) + \" end: \" + str(end_pos) + \" dna length: \" +\n",
        "        str(len(mod_dna_seq)))\n",
        "  start_pos = end_pos + 1 # Update start position\n",
        "  end_pos += 10000000 # Increment end position by 10,000,000\n",
        "\n",
        "# We still need to modify the last chunk of the FASTA file, up to the end of the\n",
        "  # sequence, and then we'll have our final modified DNA sequence.\n",
        "last_dna_chunk = dna_seq[start_pos: end_coding_region].replace('\\n', '') # Remove each instance of '\\n'\n",
        "mod_dna_seq += last_dna_chunk # Build up modified DNA sequence\n",
        "print(\"start: \" + str(start_pos) + \" end: \" + str(seq_len) + \" dna length: \" +\n",
        "      str(len(mod_dna_seq)))\n",
        "\n",
        "dna_length = len(mod_dna_seq) # Modified DNA sequence length\n",
        "print(\"\\nDNA SEQUENCE MODIFIED LENGTH: \" + str(dna_length) + \"\\n\")\n",
        "\n",
        "# Difference in sequence length between original FASTA data and modified sequence\n",
        "print(\"ELIMINATED SEQUENCE: \" + str(seq_len - dna_length) + \"\\n\")"
      ],
      "metadata": {
        "colab": {
          "base_uri": "https://localhost:8080/"
        },
        "id": "njRxNgZL84Zk",
        "outputId": "1c52f758-2ed1-487c-864d-013d8817570a"
      },
      "execution_count": null,
      "outputs": [
        {
          "output_type": "stream",
          "name": "stdout",
          "text": [
            "Modifying DNA Sequence\n",
            "start: 5093500 end: 10000000 dna length: 4826065\n",
            "start: 10000001 end: 24117192 dna length: 7905806\n",
            "\n",
            "DNA SEQUENCE MODIFIED LENGTH: 7905806\n",
            "\n",
            "ELIMINATED SEQUENCE: 16211386\n",
            "\n"
          ]
        }
      ]
    },
    {
      "cell_type": "markdown",
      "source": [
        "After removing all the newline characters and joining the sequence together into one large string, we have 41,689,978 bases in the total sequence. We will not demonstrate what the modified DNA sequence looks like now (first 1500 bases only, of course)."
      ],
      "metadata": {
        "id": "_8HhxRreUp_6"
      }
    },
    {
      "cell_type": "code",
      "source": [
        "mod_dna_seq[:1500]"
      ],
      "metadata": {
        "colab": {
          "base_uri": "https://localhost:8080/",
          "height": 140
        },
        "id": "RgBnlQZp88T7",
        "outputId": "cd7eda98-5f25-415d-f550-68304f44df6e"
      },
      "execution_count": null,
      "outputs": [
        {
          "output_type": "execute_result",
          "data": {
            "text/plain": [
              "'GATCCACCCGCCTTGGCCTCCTAAAGTGCTGGGATTACAGGTGTTAGCCACCACGTCCAGCTGTTAATTTTTATTTAATAAGAATGACAGAGTGAGGGCCATCACTGTTAATGAAGCCAGTGTTGCTCACAGCCTCCCCTTGGTCACTTTTTGTGACTGAAGGGCATGTGTTCAGGCAAGATTGTTGGGTGGCTGTGTTTTGTCTTCTTCCAGCTCGGCCATGGAATAGCCTGTGGGGACCTACTCTGTGGTCCCCAGGGAGCTACTCTGTGGGGGCTGTTTCTGTTCAGCAGGGAAGGCTCTGCCCTTGCTGTTAGCTCCTGGAGGGCTGCGGACGGCACCTGCTGTGTTCACAGATGACAGTTACTTCCCTAGGTAGTCTGCATGTTGGGCCTCCCAGGACTGGTTCTCTAAGGGCAATGTGAGGACAGACAGAAAAACCAAATTCTGCCAAAGTTTTTAAATAGGTTTATTCTGAGCCAATAAGAGTGACCATGGCCTGGGAAATACAGTCTTAAGAGATCCCGAGGAAGTGCACCTGAGGCGGTCAGTTACAATTTGGTTTTATGTATTTATTTATTTTTATTTTATTTATTTATTTATTTGTTTTTGAGACGGAGGCTTGCTCTGTCGCCCAGGCTGGAGTGCAGTGGCGTGATCTCGGCTCACCGCAAGCTCCGCCTCCCGCGTTCCTGCCATTCTCCTGCCTCAGCCTCCCGAGTAGCTGGGACTACAGGCGCCCGCCACCATGCCTGGCTAATTTTTTTATATTTTTAGTAGAGACGGGGTTTCACCGTGTTAGCCAGGATGGTCTCAATCTCCTGACCTCGTGATCCGCCCGCCTCTGCCTCCCAAAGTGCTGGGATTACAGGCGTGAGCCACCACTCCCAGCACAATTGGTTTTGTACATTTCAGGGAGATGCGAACTGCAGGTGGAATCAGAAAACAGTACACGGGCCGGGCGCGGTGGCTCACGCCTGTAATCCCAGCACTTTGAGCTGAGGAGTTCAAGACCAGTTTGAGCAACTTGGTGAAACCCCATCTCTACCAAAAATACAAAAAAGTTGGCTAGTCATGGTGATGTGCACCTGGGGTTGCTCAGGGGGCTGAGGCAGGAGGATTGCTTGAGCCCAGGAGGTAGAGGTTGCAGTGAGCCGAGATCTCGCCATTGCACTACAGCCTGGGTGACAGAGTGAGACCCCATCTCAAAAAATCAATCAATCAATAAATCAATACATAGAAGATGTGCATTGGATCAGCCCCAAAAGGCGAGATATCTTGAAGCTTACAGGTTATAGGTGGGTTTAGGGATTCTTTAGTTGGCAGTTGGTTGAAAGAGTTGAGCTTTGCCTAAAAACTGGGAGTCAGTAGAAAGGAATGCTTGAGTTAAAATAAGGAGGTCTGCTGTCTGTCATGTGGTGCCATGGCAGAGTCACAATATACCAGGTCAAAAACACCCATTCCACAAGCTTTTGTGGTTTGTAAGGCGTGATTCCCCTA'"
            ],
            "application/vnd.google.colaboratory.intrinsic+json": {
              "type": "string"
            }
          },
          "metadata": {},
          "execution_count": 81
        }
      ]
    },
    {
      "cell_type": "code",
      "source": [
        "print(\"A: \" + str(mod_dna_seq.count('A')))\n",
        "print(\"C: \" + str(mod_dna_seq.count('C')))\n",
        "print(\"G: \" + str(mod_dna_seq.count('G')))\n",
        "print(\"T: \" + str(mod_dna_seq.count('T')))"
      ],
      "metadata": {
        "colab": {
          "base_uri": "https://localhost:8080/"
        },
        "id": "0HtMU8D59Axi",
        "outputId": "99a015ec-93b9-439d-c164-87d0a75db20a"
      },
      "execution_count": null,
      "outputs": [
        {
          "output_type": "stream",
          "name": "stdout",
          "text": [
            "A: 1836061\n",
            "C: 1291796\n",
            "G: 1344908\n",
            "T: 1931840\n"
          ]
        }
      ]
    },
    {
      "cell_type": "markdown",
      "source": [
        "Transcription (T -> U)"
      ],
      "metadata": {
        "id": "CbUceXfOb38E"
      }
    },
    {
      "cell_type": "code",
      "source": [
        "# TRANSCRIPTION (DNA to mRNA)\n",
        "mrna_seq = mod_dna_seq.replace('T', 'U')\n",
        "mrna_length = len(mrna_seq)\n",
        "\n",
        "print(\"mRNA LENGTH = \" + str(mrna_length) + \"\\n\")\n",
        "print(\"SEQUENCES TRANSCRIBED CORRECTLY: \" + str(dna_length == mrna_length) + \"\\n\")\n",
        "\n",
        "mrna_seq[:1500]"
      ],
      "metadata": {
        "colab": {
          "base_uri": "https://localhost:8080/",
          "height": 209
        },
        "id": "RiV6Skbn9C7S",
        "outputId": "66be25e3-7775-4053-bae1-5f020422c801"
      },
      "execution_count": null,
      "outputs": [
        {
          "output_type": "stream",
          "name": "stdout",
          "text": [
            "mRNA LENGTH = 7905806\n",
            "\n",
            "SEQUENCES TRANSCRIBED CORRECTLY: True\n",
            "\n"
          ]
        },
        {
          "output_type": "execute_result",
          "data": {
            "text/plain": [
              "'GAUCCACCCGCCUUGGCCUCCUAAAGUGCUGGGAUUACAGGUGUUAGCCACCACGUCCAGCUGUUAAUUUUUAUUUAAUAAGAAUGACAGAGUGAGGGCCAUCACUGUUAAUGAAGCCAGUGUUGCUCACAGCCUCCCCUUGGUCACUUUUUGUGACUGAAGGGCAUGUGUUCAGGCAAGAUUGUUGGGUGGCUGUGUUUUGUCUUCUUCCAGCUCGGCCAUGGAAUAGCCUGUGGGGACCUACUCUGUGGUCCCCAGGGAGCUACUCUGUGGGGGCUGUUUCUGUUCAGCAGGGAAGGCUCUGCCCUUGCUGUUAGCUCCUGGAGGGCUGCGGACGGCACCUGCUGUGUUCACAGAUGACAGUUACUUCCCUAGGUAGUCUGCAUGUUGGGCCUCCCAGGACUGGUUCUCUAAGGGCAAUGUGAGGACAGACAGAAAAACCAAAUUCUGCCAAAGUUUUUAAAUAGGUUUAUUCUGAGCCAAUAAGAGUGACCAUGGCCUGGGAAAUACAGUCUUAAGAGAUCCCGAGGAAGUGCACCUGAGGCGGUCAGUUACAAUUUGGUUUUAUGUAUUUAUUUAUUUUUAUUUUAUUUAUUUAUUUAUUUGUUUUUGAGACGGAGGCUUGCUCUGUCGCCCAGGCUGGAGUGCAGUGGCGUGAUCUCGGCUCACCGCAAGCUCCGCCUCCCGCGUUCCUGCCAUUCUCCUGCCUCAGCCUCCCGAGUAGCUGGGACUACAGGCGCCCGCCACCAUGCCUGGCUAAUUUUUUUAUAUUUUUAGUAGAGACGGGGUUUCACCGUGUUAGCCAGGAUGGUCUCAAUCUCCUGACCUCGUGAUCCGCCCGCCUCUGCCUCCCAAAGUGCUGGGAUUACAGGCGUGAGCCACCACUCCCAGCACAAUUGGUUUUGUACAUUUCAGGGAGAUGCGAACUGCAGGUGGAAUCAGAAAACAGUACACGGGCCGGGCGCGGUGGCUCACGCCUGUAAUCCCAGCACUUUGAGCUGAGGAGUUCAAGACCAGUUUGAGCAACUUGGUGAAACCCCAUCUCUACCAAAAAUACAAAAAAGUUGGCUAGUCAUGGUGAUGUGCACCUGGGGUUGCUCAGGGGGCUGAGGCAGGAGGAUUGCUUGAGCCCAGGAGGUAGAGGUUGCAGUGAGCCGAGAUCUCGCCAUUGCACUACAGCCUGGGUGACAGAGUGAGACCCCAUCUCAAAAAAUCAAUCAAUCAAUAAAUCAAUACAUAGAAGAUGUGCAUUGGAUCAGCCCCAAAAGGCGAGAUAUCUUGAAGCUUACAGGUUAUAGGUGGGUUUAGGGAUUCUUUAGUUGGCAGUUGGUUGAAAGAGUUGAGCUUUGCCUAAAAACUGGGAGUCAGUAGAAAGGAAUGCUUGAGUUAAAAUAAGGAGGUCUGCUGUCUGUCAUGUGGUGCCAUGGCAGAGUCACAAUAUACCAGGUCAAAAACACCCAUUCCACAAGCUUUUGUGGUUUGUAAGGCGUGAUUCCCCUA'"
            ],
            "application/vnd.google.colaboratory.intrinsic+json": {
              "type": "string"
            }
          },
          "metadata": {},
          "execution_count": 83
        }
      ]
    },
    {
      "cell_type": "markdown",
      "source": [
        "Translation (Protein Synthesis)"
      ],
      "metadata": {
        "id": "0wJxDw2Cdxny"
      }
    },
    {
      "cell_type": "code",
      "source": [
        "# Let's begin by finding the first occurence of the start codon in the DNA.\n",
        "start_codon = mrna_seq.find('AUG')\n",
        "print(\"Start codon: \" + str(start_codon))"
      ],
      "metadata": {
        "colab": {
          "base_uri": "https://localhost:8080/"
        },
        "id": "HLJf4c3r9Flw",
        "outputId": "966627ab-03f2-4176-96e2-d0e4be312dbd"
      },
      "execution_count": null,
      "outputs": [
        {
          "output_type": "stream",
          "name": "stdout",
          "text": [
            "Start codon: 83\n"
          ]
        }
      ]
    },
    {
      "cell_type": "code",
      "source": [
        "Amino acids will be denoted by their single-letter identifier ('A', 'C', 'D', 'E', 'F', 'G', 'H', 'I', 'J', 'L', 'M' (start codon), 'N', 'P', 'Q', 'R', 'S', 'T', 'V', 'W', 'Y', and '*' for stop codons)."
      ],
      "metadata": {
        "id": "2yQOqlrRctNp"
      },
      "execution_count": null,
      "outputs": []
    },
    {
      "cell_type": "code",
      "source": [
        "# We'll create a dictionary to encode the codons corresponding to each of the 20\n",
        "  # amino acids, the start codon, the stop codons, and deal with N's in the sequence\n",
        "  # as well.\n",
        "codons = {\"GCG\" : \"A\", \"GCA\" : \"A\", \"GCC\" : \"A\", \"GCU\" : \"A\", # Alanine\n",
        "            \"UGC\" : \"C\", \"UGU\" : \"C\", # Cysteine\n",
        "            \"GAC\" : \"D\", \"GAU\" : \"D\", # Aspartic acid\n",
        "            \"GAG\" : \"E\", \"GAA\" : \"E\", # Glutamic acid\n",
        "            \"UUC\" : \"F\", \"UUU\" : \"F\", #Phenylalanine\n",
        "            \"GGG\" : \"G\", \"GGA\" : \"G\", \"GGC\" : \"G\", \"GGU\" : \"G\", # Glycine\n",
        "            \"CAU\": \"H\", \"CAC\" : \"H\", # Histidine\n",
        "            \"AUU\" : \"I\", \"AUC\" : \" I\", \"AUA\" : \"I\", # Isoleucine\n",
        "            \"AAA\" : \"K\", \"AAG\" : \"K\", # Lysine\n",
        "            \"CUU\" : \"L\", \"CUC\" : \"L\", \"CUA\" : \"L\", \"CUG\" : \"L\", \"UUG\" : \"L\", \"UUA\" : \"L\", # Leucine\n",
        "            \"AUG\" : \"M\", # Methionine (start codon)\n",
        "            \"AAC\" : \"N\", \"AAU\" : \"N\", # Asparagine\n",
        "            \"CCU\" : \"P\", \"CCC\" : \"P\", \"CCA\" : \"P\", \"CCG\" : \"P\", # Proline\n",
        "            \"CAA\" : \"Q\", \"CAG\" : \"Q\", # Glutamine\n",
        "            \"CGU\" : \"R\", \"CGC\" : \"R\", \"CGA\" : \"R\", \"CGG\" : \"R\", \"AGA\" : \"R\", \"AGG\" : \"R\", # Arginine\n",
        "            \"UCG\" : \"S\", \"UCA\" : \"S\", \"UCC\" : \"S\", \"UCU\" : \"S\", \"AGU\" : \"S\", \"AGC\" : \"S\", # Serine\n",
        "            \"ACU\" : \"T\", \"ACC\" : \"T\", \"ACA\" : \"T\", \"ACG\" : \"T\", # Threonine\n",
        "            \"GUG\" : \"V\", \"GUA\" : \"V\", \"GUC\" : \"V\", \"GUU\" : \"V\", # Valine\n",
        "            \"UGG\" : \"W\", # Tryptophan\n",
        "            \"UAC\" : \"Y\", \"UAU\" : \"Y\", # Tyrosine\n",
        "            \"UGA\" : \"*\", \"UAG\" : \"*\", \"UAA\" : \"*\", # Stop codons\n",
        "\n",
        "            # Since we can't remove N's from the middle of the sequence (would result\n",
        "              # in frameshift mutations), we'll enocde any codon in the mRNA that\n",
        "              # has an N as \"X\" in the protein sequence. Here are all the possible\n",
        "              # configurations in which N can be present in a codon:\n",
        "            \"NNN\" : \"X\",\n",
        "            \"NNA\" : \"X\", \"NNC\" : \"X\", \"NNG\" : \"X\", \"NNU\" : \"X\",\n",
        "            \"ANN\" : \"X\", \"CNN\" : \"X\", \"GNN\" : \"X\", \"UNN\" : \"X\",\n",
        "            \"NAA\" : \"X\", \"NAC\" : \"X\", \"NAG\" : \"X\", \"NAU\" : \"X\",\n",
        "            \"NCA\" : \"X\", \"NCC\" : \"X\", \"NCG\" : \"X\", \"NCU\" : \"X\",\n",
        "            \"NGA\" : \"X\", \"NGC\" : \"X\", \"NGG\" : \"X\", \"NAU\" : \"X\",\n",
        "            \"NUA\" : \"X\", \"NUC\" : \"X\", \"NUG\" : \"X\", \"NUU\" : \"X\",\n",
        "            \"ANA\" : \"X\", \"ANC\" : \"X\", \"ANG\" : \"X\", \"ANU\" : \"X\",\n",
        "            \"CNA\" : \"X\", \"CNC\" : \"X\", \"CNG\" : \"X\", \"CNU\" : \"X\",\n",
        "            \"GNA\" : \"X\", \"GNC\" : \"X\", \"GNG\" : \"X\", \"GNU\" : \"X\",\n",
        "            \"UNA\" : \"X\", \"UNC\" : \"X\", \"UNG\" : \"X\", \"UNU\" : \"X\",\n",
        "            \"AAN\" : \"X\", \"ACN\" : \"X\", \"AGN\" : \"X\", \"AUN\" : \"X\",\n",
        "            \"CAN\" : \"X\", \"CCN\" : \"X\", \"CGN\" : \"X\", \"CUN\" : \"X\",\n",
        "            \"GAN\" : \"X\", \"GCN\" : \"X\", \"GGN\" : \"X\", \"GUN\" : \"X\",\n",
        "            \"UAN\" : \"X\", \"UCN\" : \"X\", \"UGN\" : \"X\", \"UUN\" : \"X\",\n",
        "            }"
      ],
      "metadata": {
        "id": "gAGXhQic9IGU"
      },
      "execution_count": null,
      "outputs": []
    },
    {
      "cell_type": "code",
      "source": [
        "# TRANSLATION (mRNA to protein)\n",
        "# This function synthesizes a specific protein sequence, starting from the start\n",
        "  # codon in the mRNA sequence and terminating translation once a stop codon is reached.\n",
        "def translate(start):\n",
        "  protein_seq = \"\" # We'll build up the protein sequence\n",
        "  translate_pos = start\n",
        "  while mrna_seq[translate_pos: translate_pos+3] not in stop_codons: # Tranverse mRNA sequence by triplets\n",
        "    amino_acid = codons[mrna_seq[translate_pos: translate_pos+3]] # Identify each amino acid based on codon dict\n",
        "    protein_seq += amino_acid # Add the amino acid to the protein sequence\n",
        "    translate_pos += 3\n",
        "  protein_seq += amino_acid # Add stop codon to sequence\n",
        "  proteins.append(protein_seq) # Add synthesized protein to proteins list\n",
        "  return translate_pos # Return position of stop codon"
      ],
      "metadata": {
        "id": "OOf50QqN9Kt6"
      },
      "execution_count": null,
      "outputs": []
    },
    {
      "cell_type": "code",
      "source": [
        "# Now we'll call the translate function on our sequence\n",
        "proteins = [] # Create a list to store all synthesized proteins\n",
        "start_codon_seq = 'AUG' # Start codon\n",
        "stop_codons = ['UGA', 'UAG', 'UAA'] # Stop codons\n",
        "\n",
        "# Begin translation at the first start codon\n",
        "translate_pos = translate(start_codon)\n",
        "\n",
        "# Iterate through mRNA sequence, calling translate() each time start codon is found\n",
        "while translate_pos < end_coding_region:\n",
        "  if mrna_seq[translate_pos: translate_pos + 3] == start_codon_seq:\n",
        "    translate_pos = translate(translate_pos)\n",
        "  else:\n",
        "    translate_pos += 3\n",
        "\n",
        "print(\"Ended Translating at: \" + str(translate_pos) + \"\\n\")\n",
        "print(\"PROTEINS: \")\n",
        "proteins[:25] # Display first 25 proteins in list"
      ],
      "metadata": {
        "colab": {
          "base_uri": "https://localhost:8080/"
        },
        "id": "01lV7lqh9M0c",
        "outputId": "c3415a82-8b56-4fa3-8147-f9f6602152e4"
      },
      "execution_count": null,
      "outputs": [
        {
          "output_type": "stream",
          "name": "stdout",
          "text": [
            "Ended Translating at: 13131071\n",
            "\n",
            "PROTEINS: \n"
          ]
        },
        {
          "output_type": "execute_result",
          "data": {
            "text/plain": [
              "['MTEE',\n",
              " 'MKPVLLTASPWSLFVTEGHVFRQDCWVAVFCLLPARPWNSLWGPTLWSPGSYSVGAVSVQQGRLCPCCC',\n",
              " 'MTVTSLGSLHVGPPRTGSLRAMM',\n",
              " 'MAWEIQSS',\n",
              " 'MYLFIFILFIYLFVFETEACSVAQAGVQWRDLGSPQAPPPAFLPFSCLSLPSSWDYRRPPPCLANFFIFLVETGFHRVSQDGLNLLTSS',\n",
              " 'MHGTESSPQTRSFLLWAPGRQPLRLVVAVDGSALVGSTPQLALACGPCELSRVCPGV ISCCRTRPCPLLLPLSAHSPLSCRWRSGDPS ILCTAPHLPWATPVTVLPVSDASVLAACPHHPCLLSSLLTPPCQGRNCKLSAFFKNSF IEAPLTYSKLHAFSVSDWMSSELAPHPCTPHQSKRATEE',\n",
              " 'MHLCGPSTGQGFIAAGGTGAGGSLRPRPVRPLDPLSPSLKPQFPP',\n",
              " 'MHLNSVPMTSPPGPPSALPPHPTPGWYLFQFHRLLQYARPKPGSPRPFFWMFVDNLVLNKEDLDVASRFLEVRAGLRGPPSDPCPREGGAFLVELSLHPRLRAWLLAAPGFQVCTGPRRAAVQSGQGLRPGTQSPFKDSMGGQSHLAPLLCSQNTASGAHLLPLPPQSPPTHTH ITPHTQVHTHCSAQSLYTCTTHRDTLATHTQAHYVHTYSHHTHTAFSSHVV',\n",
              " 'MQ IQLFRRGANAMSS',\n",
              " 'MSVCRNEALNLRGLLRTQALKRTTSVNRPEPVCGRGPLSGGGSS',\n",
              " 'MEPVT IPDVHGGSLQNAVRVWSN IPAIRRYFLGSS',\n",
              " 'MRAHTQPHSHDSLARSSIRLCAHVCTHTQSFPRSRSSTHLCAHACTHSHPHSHAHPHTHMLPQSHAHTSTLTTTTC IHTFTCAHNHTGTHASVSPTHTLAPPAVHSWAALPTFWGLEHMAFPHVPSLRLSTPFCCPHSLSQLPPPLNSLSRRPRPHDLQPTAHPSPHSHTRLACLAHTCIRVERALSGSAESS',\n",
              " 'MAPAGLAGLASPGFEFGWGG',\n",
              " 'MSLPGRPCQALWGWVSGGEGGGRPSNTCVHYRPCLTCCLAPEAPWPPEALCVHTAVRTAPHQGSS',\n",
              " 'MVTSSSDGPGARCSHGVTPSLLPRGPAPGRGRREARESSGPLLLTPPPP',\n",
              " 'MSHYTVKKKTFPRTKATFLTLSLSSSDSCFFASPSSLQTHVPLGSGDSGSLPHHAGSWDGARPTPLHTGPHVVVRDVLPESISVFF',\n",
              " 'MSLVGPTPGGIACKKQGSSWPSAVV',\n",
              " 'MLCGRKVKIGPFEGG',\n",
              " 'MTERLSHLGTVLDAYDTHLTSRDEFSKLCNDPGVPEATEGAQVRASKCKK',\n",
              " 'MGTGQAGWW',\n",
              " 'MLPCAANFF',\n",
              " 'MGSCSVAQAGLKLLGSSDPPTLASLSVGITGVSHCARPAKYLNFIHRTC IM IPCSAEPPSKGCPCPHSR ILL',\n",
              " 'MLPHVAKEGLCC',\n",
              " 'MPGPPRAGRGRR',\n",
              " 'MYPFRR']"
            ]
          },
          "metadata": {},
          "execution_count": 87
        }
      ]
    },
    {
      "cell_type": "code",
      "source": [
        "print(\"Number of Proteins Synthesized: \" + str(len(proteins)))"
      ],
      "metadata": {
        "colab": {
          "base_uri": "https://localhost:8080/"
        },
        "id": "bxRZ1VKm9PhH",
        "outputId": "503c4da7-ed83-41a6-c110-2ba0d5ee0e14"
      },
      "execution_count": null,
      "outputs": [
        {
          "output_type": "stream",
          "name": "stdout",
          "text": [
            "Number of Proteins Synthesized: 24772\n"
          ]
        }
      ]
    },
    {
      "cell_type": "markdown",
      "source": [
        "# **Data Analysis**"
      ],
      "metadata": {
        "id": "OLLfbOeURT-2"
      }
    },
    {
      "cell_type": "code",
      "source": [
        "import pandas as pd\n",
        "\n",
        "# Let's start by creating a dataframe in which to store the protein seqeunces we've extracted\n",
        "ch21code_df = pd.DataFrame(data=proteins, columns=['amino acid sequence']) # Store the amino acid sequences of each protein\n",
        "ch21code_df['protein length'] = ch21code_df.apply(lambda row: len(row['amino acid sequence']), axis=1) # Store the amino acid lengths\n",
        "ch21code_df['nucleotides'] = ch21code_df['protein length'] * 3 # Store the nucleotide lengths\n",
        "print(\"Number of Proteins i DataFrame: \" + str(len(ch21code_df)))\n",
        "ch21code_df"
      ],
      "metadata": {
        "colab": {
          "base_uri": "https://localhost:8080/",
          "height": 441
        },
        "id": "8d7fPdkl9Ryq",
        "outputId": "bcf5d434-35f5-4511-99fc-0f7567320578"
      },
      "execution_count": null,
      "outputs": [
        {
          "output_type": "stream",
          "name": "stdout",
          "text": [
            "Number of Proteins i DataFrame: 24772\n"
          ]
        },
        {
          "output_type": "execute_result",
          "data": {
            "text/plain": [
              "                                     amino acid sequence  protein length  \\\n",
              "0                                                   MTEE               4   \n",
              "1      MKPVLLTASPWSLFVTEGHVFRQDCWVAVFCLLPARPWNSLWGPTL...              69   \n",
              "2                                MTVTSLGSLHVGPPRTGSLRAMM              23   \n",
              "3                                               MAWEIQSS               8   \n",
              "4      MYLFIFILFIYLFVFETEACSVAQAGVQWRDLGSPQAPPPAFLPFS...              89   \n",
              "...                                                  ...             ...   \n",
              "24767               MQQFGNTLFVETVSGYLDSCNDFVGNGN I I I I              36   \n",
              "24768                                          MCVPSQRII               9   \n",
              "24769                                            MPTVEKK               7   \n",
              "24770                                             MCVLNN               6   \n",
              "24771  MQVDIWIAWRISLEAGIQIKGRQQHSQKFLSDVCIQLIELKIPFHR...              66   \n",
              "\n",
              "       nucleotides  \n",
              "0               12  \n",
              "1              207  \n",
              "2               69  \n",
              "3               24  \n",
              "4              267  \n",
              "...            ...  \n",
              "24767          108  \n",
              "24768           27  \n",
              "24769           21  \n",
              "24770           18  \n",
              "24771          198  \n",
              "\n",
              "[24772 rows x 3 columns]"
            ],
            "text/html": [
              "\n",
              "\n",
              "  <div id=\"df-566bc33e-87cf-450e-a9f6-34fdccc325e2\">\n",
              "    <div class=\"colab-df-container\">\n",
              "      <div>\n",
              "<style scoped>\n",
              "    .dataframe tbody tr th:only-of-type {\n",
              "        vertical-align: middle;\n",
              "    }\n",
              "\n",
              "    .dataframe tbody tr th {\n",
              "        vertical-align: top;\n",
              "    }\n",
              "\n",
              "    .dataframe thead th {\n",
              "        text-align: right;\n",
              "    }\n",
              "</style>\n",
              "<table border=\"1\" class=\"dataframe\">\n",
              "  <thead>\n",
              "    <tr style=\"text-align: right;\">\n",
              "      <th></th>\n",
              "      <th>amino acid sequence</th>\n",
              "      <th>protein length</th>\n",
              "      <th>nucleotides</th>\n",
              "    </tr>\n",
              "  </thead>\n",
              "  <tbody>\n",
              "    <tr>\n",
              "      <th>0</th>\n",
              "      <td>MTEE</td>\n",
              "      <td>4</td>\n",
              "      <td>12</td>\n",
              "    </tr>\n",
              "    <tr>\n",
              "      <th>1</th>\n",
              "      <td>MKPVLLTASPWSLFVTEGHVFRQDCWVAVFCLLPARPWNSLWGPTL...</td>\n",
              "      <td>69</td>\n",
              "      <td>207</td>\n",
              "    </tr>\n",
              "    <tr>\n",
              "      <th>2</th>\n",
              "      <td>MTVTSLGSLHVGPPRTGSLRAMM</td>\n",
              "      <td>23</td>\n",
              "      <td>69</td>\n",
              "    </tr>\n",
              "    <tr>\n",
              "      <th>3</th>\n",
              "      <td>MAWEIQSS</td>\n",
              "      <td>8</td>\n",
              "      <td>24</td>\n",
              "    </tr>\n",
              "    <tr>\n",
              "      <th>4</th>\n",
              "      <td>MYLFIFILFIYLFVFETEACSVAQAGVQWRDLGSPQAPPPAFLPFS...</td>\n",
              "      <td>89</td>\n",
              "      <td>267</td>\n",
              "    </tr>\n",
              "    <tr>\n",
              "      <th>...</th>\n",
              "      <td>...</td>\n",
              "      <td>...</td>\n",
              "      <td>...</td>\n",
              "    </tr>\n",
              "    <tr>\n",
              "      <th>24767</th>\n",
              "      <td>MQQFGNTLFVETVSGYLDSCNDFVGNGN I I I I</td>\n",
              "      <td>36</td>\n",
              "      <td>108</td>\n",
              "    </tr>\n",
              "    <tr>\n",
              "      <th>24768</th>\n",
              "      <td>MCVPSQRII</td>\n",
              "      <td>9</td>\n",
              "      <td>27</td>\n",
              "    </tr>\n",
              "    <tr>\n",
              "      <th>24769</th>\n",
              "      <td>MPTVEKK</td>\n",
              "      <td>7</td>\n",
              "      <td>21</td>\n",
              "    </tr>\n",
              "    <tr>\n",
              "      <th>24770</th>\n",
              "      <td>MCVLNN</td>\n",
              "      <td>6</td>\n",
              "      <td>18</td>\n",
              "    </tr>\n",
              "    <tr>\n",
              "      <th>24771</th>\n",
              "      <td>MQVDIWIAWRISLEAGIQIKGRQQHSQKFLSDVCIQLIELKIPFHR...</td>\n",
              "      <td>66</td>\n",
              "      <td>198</td>\n",
              "    </tr>\n",
              "  </tbody>\n",
              "</table>\n",
              "<p>24772 rows × 3 columns</p>\n",
              "</div>\n",
              "      <button class=\"colab-df-convert\" onclick=\"convertToInteractive('df-566bc33e-87cf-450e-a9f6-34fdccc325e2')\"\n",
              "              title=\"Convert this dataframe to an interactive table.\"\n",
              "              style=\"display:none;\">\n",
              "\n",
              "  <svg xmlns=\"http://www.w3.org/2000/svg\" height=\"24px\"viewBox=\"0 0 24 24\"\n",
              "       width=\"24px\">\n",
              "    <path d=\"M0 0h24v24H0V0z\" fill=\"none\"/>\n",
              "    <path d=\"M18.56 5.44l.94 2.06.94-2.06 2.06-.94-2.06-.94-.94-2.06-.94 2.06-2.06.94zm-11 1L8.5 8.5l.94-2.06 2.06-.94-2.06-.94L8.5 2.5l-.94 2.06-2.06.94zm10 10l.94 2.06.94-2.06 2.06-.94-2.06-.94-.94-2.06-.94 2.06-2.06.94z\"/><path d=\"M17.41 7.96l-1.37-1.37c-.4-.4-.92-.59-1.43-.59-.52 0-1.04.2-1.43.59L10.3 9.45l-7.72 7.72c-.78.78-.78 2.05 0 2.83L4 21.41c.39.39.9.59 1.41.59.51 0 1.02-.2 1.41-.59l7.78-7.78 2.81-2.81c.8-.78.8-2.07 0-2.86zM5.41 20L4 18.59l7.72-7.72 1.47 1.35L5.41 20z\"/>\n",
              "  </svg>\n",
              "      </button>\n",
              "\n",
              "\n",
              "\n",
              "    <div id=\"df-a807e2ed-7621-45db-9e5b-1722f2ab0181\">\n",
              "      <button class=\"colab-df-quickchart\" onclick=\"quickchart('df-a807e2ed-7621-45db-9e5b-1722f2ab0181')\"\n",
              "              title=\"Suggest charts.\"\n",
              "              style=\"display:none;\">\n",
              "\n",
              "<svg xmlns=\"http://www.w3.org/2000/svg\" height=\"24px\"viewBox=\"0 0 24 24\"\n",
              "     width=\"24px\">\n",
              "    <g>\n",
              "        <path d=\"M19 3H5c-1.1 0-2 .9-2 2v14c0 1.1.9 2 2 2h14c1.1 0 2-.9 2-2V5c0-1.1-.9-2-2-2zM9 17H7v-7h2v7zm4 0h-2V7h2v10zm4 0h-2v-4h2v4z\"/>\n",
              "    </g>\n",
              "</svg>\n",
              "      </button>\n",
              "    </div>\n",
              "\n",
              "<style>\n",
              "  .colab-df-quickchart {\n",
              "    background-color: #E8F0FE;\n",
              "    border: none;\n",
              "    border-radius: 50%;\n",
              "    cursor: pointer;\n",
              "    display: none;\n",
              "    fill: #1967D2;\n",
              "    height: 32px;\n",
              "    padding: 0 0 0 0;\n",
              "    width: 32px;\n",
              "  }\n",
              "\n",
              "  .colab-df-quickchart:hover {\n",
              "    background-color: #E2EBFA;\n",
              "    box-shadow: 0px 1px 2px rgba(60, 64, 67, 0.3), 0px 1px 3px 1px rgba(60, 64, 67, 0.15);\n",
              "    fill: #174EA6;\n",
              "  }\n",
              "\n",
              "  [theme=dark] .colab-df-quickchart {\n",
              "    background-color: #3B4455;\n",
              "    fill: #D2E3FC;\n",
              "  }\n",
              "\n",
              "  [theme=dark] .colab-df-quickchart:hover {\n",
              "    background-color: #434B5C;\n",
              "    box-shadow: 0px 1px 3px 1px rgba(0, 0, 0, 0.15);\n",
              "    filter: drop-shadow(0px 1px 2px rgba(0, 0, 0, 0.3));\n",
              "    fill: #FFFFFF;\n",
              "  }\n",
              "</style>\n",
              "\n",
              "    <script>\n",
              "      async function quickchart(key) {\n",
              "        const containerElement = document.querySelector('#' + key);\n",
              "        const charts = await google.colab.kernel.invokeFunction(\n",
              "            'suggestCharts', [key], {});\n",
              "      }\n",
              "    </script>\n",
              "\n",
              "      <script>\n",
              "\n",
              "function displayQuickchartButton(domScope) {\n",
              "  let quickchartButtonEl =\n",
              "    domScope.querySelector('#df-a807e2ed-7621-45db-9e5b-1722f2ab0181 button.colab-df-quickchart');\n",
              "  quickchartButtonEl.style.display =\n",
              "    google.colab.kernel.accessAllowed ? 'block' : 'none';\n",
              "}\n",
              "\n",
              "        displayQuickchartButton(document);\n",
              "      </script>\n",
              "      <style>\n",
              "    .colab-df-container {\n",
              "      display:flex;\n",
              "      flex-wrap:wrap;\n",
              "      gap: 12px;\n",
              "    }\n",
              "\n",
              "    .colab-df-convert {\n",
              "      background-color: #E8F0FE;\n",
              "      border: none;\n",
              "      border-radius: 50%;\n",
              "      cursor: pointer;\n",
              "      display: none;\n",
              "      fill: #1967D2;\n",
              "      height: 32px;\n",
              "      padding: 0 0 0 0;\n",
              "      width: 32px;\n",
              "    }\n",
              "\n",
              "    .colab-df-convert:hover {\n",
              "      background-color: #E2EBFA;\n",
              "      box-shadow: 0px 1px 2px rgba(60, 64, 67, 0.3), 0px 1px 3px 1px rgba(60, 64, 67, 0.15);\n",
              "      fill: #174EA6;\n",
              "    }\n",
              "\n",
              "    [theme=dark] .colab-df-convert {\n",
              "      background-color: #3B4455;\n",
              "      fill: #D2E3FC;\n",
              "    }\n",
              "\n",
              "    [theme=dark] .colab-df-convert:hover {\n",
              "      background-color: #434B5C;\n",
              "      box-shadow: 0px 1px 3px 1px rgba(0, 0, 0, 0.15);\n",
              "      filter: drop-shadow(0px 1px 2px rgba(0, 0, 0, 0.3));\n",
              "      fill: #FFFFFF;\n",
              "    }\n",
              "  </style>\n",
              "\n",
              "      <script>\n",
              "        const buttonEl =\n",
              "          document.querySelector('#df-566bc33e-87cf-450e-a9f6-34fdccc325e2 button.colab-df-convert');\n",
              "        buttonEl.style.display =\n",
              "          google.colab.kernel.accessAllowed ? 'block' : 'none';\n",
              "\n",
              "        async function convertToInteractive(key) {\n",
              "          const element = document.querySelector('#df-566bc33e-87cf-450e-a9f6-34fdccc325e2');\n",
              "          const dataTable =\n",
              "            await google.colab.kernel.invokeFunction('convertToInteractive',\n",
              "                                                     [key], {});\n",
              "          if (!dataTable) return;\n",
              "\n",
              "          const docLinkHtml = 'Like what you see? Visit the ' +\n",
              "            '<a target=\"_blank\" href=https://colab.research.google.com/notebooks/data_table.ipynb>data table notebook</a>'\n",
              "            + ' to learn more about interactive tables.';\n",
              "          element.innerHTML = '';\n",
              "          dataTable['output_type'] = 'display_data';\n",
              "          await google.colab.output.renderOutput(dataTable, element);\n",
              "          const docLink = document.createElement('div');\n",
              "          docLink.innerHTML = docLinkHtml;\n",
              "          element.appendChild(docLink);\n",
              "        }\n",
              "      </script>\n",
              "    </div>\n",
              "  </div>\n"
            ]
          },
          "metadata": {},
          "execution_count": 89
        }
      ]
    },
    {
      "cell_type": "markdown",
      "source": [
        "Tabular analysis of protein"
      ],
      "metadata": {
        "id": "TzEnAC9DeilD"
      }
    },
    {
      "cell_type": "code",
      "source": [
        "# Now that we have our dataframe, let's create a histogram to visualize the\n",
        "  # distribution of protein lengths we found on chromosome 21\n",
        "import matplotlib.pyplot as plt\n",
        "import seaborn as sns\n",
        "sns.set()\n",
        "\n",
        "# Create histogram\n",
        "plt.figure(figsize=(15, 10)) # Adjust scatterplot size\n",
        "ch21code_df['protein length'].plot(kind='hist', bins=100, logy=True,\n",
        "                                   color= 'darkseagreen') # Input data\n",
        "plt.title(\"Protein Lengths in Homo Sapiens Chromosome 21\", fontsize = 20) # Title\n",
        "plt.xlabel(\"Protein Length (Number of Codons)\", fontsize = 15) # x-axis\n",
        "plt.ylabel(\"Frequency\", fontsize = 15) # y-axis\n",
        "sns.set_style('darkgrid')\n",
        "plt.show()"
      ],
      "metadata": {
        "colab": {
          "base_uri": "https://localhost:8080/",
          "height": 782
        },
        "id": "XNyAlIf39UEY",
        "outputId": "ac0b8462-11c3-421a-a917-8c6087476254"
      },
      "execution_count": null,
      "outputs": [
        {
          "output_type": "display_data",
          "data": {
            "text/plain": [
              "<Figure size 1500x1000 with 1 Axes>"
            ],
            "image/png": "[encoded data removed]"
          },
          "metadata": {}
        }
      ]
    },
    {
      "cell_type": "markdown",
      "source": [
        "To better visualize the data (and especially see the distribution of the smaller proteins better), we can split up the data into small, medium, and large protein sizes in order to get a clearer picture."
      ],
      "metadata": {
        "id": "ZfriTJc2exPI"
      }
    },
    {
      "cell_type": "code",
      "source": [
        "# We can split up the data based on protein sizes: small proteins with fewer\n",
        "  #than 10,000 codons, medium-sized proteins between 10,000 and 25,000 codons\n",
        "  # long, and large proteins with more than 25,000 codons\n",
        "\n",
        "# Small Proteins\n",
        "small_proteins_df = ch21code_df.loc[ch21code_df['protein length'] < 10000]\n",
        "print(\"Number of Small Proteins: \" + str(len(small_proteins_df)))\n",
        "small_proteins_df"
      ],
      "metadata": {
        "colab": {
          "base_uri": "https://localhost:8080/",
          "height": 441
        },
        "id": "ABwAN0e19XN8",
        "outputId": "56f0fe66-2fba-4672-c05d-bd8dc80a90c2"
      },
      "execution_count": null,
      "outputs": [
        {
          "output_type": "stream",
          "name": "stdout",
          "text": [
            "Number of Small Proteins: 24766\n"
          ]
        },
        {
          "output_type": "execute_result",
          "data": {
            "text/plain": [
              "                                     amino acid sequence  protein length  \\\n",
              "0                                                   MTEE               4   \n",
              "1      MKPVLLTASPWSLFVTEGHVFRQDCWVAVFCLLPARPWNSLWGPTL...              69   \n",
              "2                                MTVTSLGSLHVGPPRTGSLRAMM              23   \n",
              "3                                               MAWEIQSS               8   \n",
              "4      MYLFIFILFIYLFVFETEACSVAQAGVQWRDLGSPQAPPPAFLPFS...              89   \n",
              "...                                                  ...             ...   \n",
              "24767               MQQFGNTLFVETVSGYLDSCNDFVGNGN I I I I              36   \n",
              "24768                                          MCVPSQRII               9   \n",
              "24769                                            MPTVEKK               7   \n",
              "24770                                             MCVLNN               6   \n",
              "24771  MQVDIWIAWRISLEAGIQIKGRQQHSQKFLSDVCIQLIELKIPFHR...              66   \n",
              "\n",
              "       nucleotides  \n",
              "0               12  \n",
              "1              207  \n",
              "2               69  \n",
              "3               24  \n",
              "4              267  \n",
              "...            ...  \n",
              "24767          108  \n",
              "24768           27  \n",
              "24769           21  \n",
              "24770           18  \n",
              "24771          198  \n",
              "\n",
              "[24766 rows x 3 columns]"
            ],
            "text/html": [
              "\n",
              "\n",
              "  <div id=\"df-98934159-3d34-4f73-816e-137c3ae1a25b\">\n",
              "    <div class=\"colab-df-container\">\n",
              "      <div>\n",
              "<style scoped>\n",
              "    .dataframe tbody tr th:only-of-type {\n",
              "        vertical-align: middle;\n",
              "    }\n",
              "\n",
              "    .dataframe tbody tr th {\n",
              "        vertical-align: top;\n",
              "    }\n",
              "\n",
              "    .dataframe thead th {\n",
              "        text-align: right;\n",
              "    }\n",
              "</style>\n",
              "<table border=\"1\" class=\"dataframe\">\n",
              "  <thead>\n",
              "    <tr style=\"text-align: right;\">\n",
              "      <th></th>\n",
              "      <th>amino acid sequence</th>\n",
              "      <th>protein length</th>\n",
              "      <th>nucleotides</th>\n",
              "    </tr>\n",
              "  </thead>\n",
              "  <tbody>\n",
              "    <tr>\n",
              "      <th>0</th>\n",
              "      <td>MTEE</td>\n",
              "      <td>4</td>\n",
              "      <td>12</td>\n",
              "    </tr>\n",
              "    <tr>\n",
              "      <th>1</th>\n",
              "      <td>MKPVLLTASPWSLFVTEGHVFRQDCWVAVFCLLPARPWNSLWGPTL...</td>\n",
              "      <td>69</td>\n",
              "      <td>207</td>\n",
              "    </tr>\n",
              "    <tr>\n",
              "      <th>2</th>\n",
              "      <td>MTVTSLGSLHVGPPRTGSLRAMM</td>\n",
              "      <td>23</td>\n",
              "      <td>69</td>\n",
              "    </tr>\n",
              "    <tr>\n",
              "      <th>3</th>\n",
              "      <td>MAWEIQSS</td>\n",
              "      <td>8</td>\n",
              "      <td>24</td>\n",
              "    </tr>\n",
              "    <tr>\n",
              "      <th>4</th>\n",
              "      <td>MYLFIFILFIYLFVFETEACSVAQAGVQWRDLGSPQAPPPAFLPFS...</td>\n",
              "      <td>89</td>\n",
              "      <td>267</td>\n",
              "    </tr>\n",
              "    <tr>\n",
              "      <th>...</th>\n",
              "      <td>...</td>\n",
              "      <td>...</td>\n",
              "      <td>...</td>\n",
              "    </tr>\n",
              "    <tr>\n",
              "      <th>24767</th>\n",
              "      <td>MQQFGNTLFVETVSGYLDSCNDFVGNGN I I I I</td>\n",
              "      <td>36</td>\n",
              "      <td>108</td>\n",
              "    </tr>\n",
              "    <tr>\n",
              "      <th>24768</th>\n",
              "      <td>MCVPSQRII</td>\n",
              "      <td>9</td>\n",
              "      <td>27</td>\n",
              "    </tr>\n",
              "    <tr>\n",
              "      <th>24769</th>\n",
              "      <td>MPTVEKK</td>\n",
              "      <td>7</td>\n",
              "      <td>21</td>\n",
              "    </tr>\n",
              "    <tr>\n",
              "      <th>24770</th>\n",
              "      <td>MCVLNN</td>\n",
              "      <td>6</td>\n",
              "      <td>18</td>\n",
              "    </tr>\n",
              "    <tr>\n",
              "      <th>24771</th>\n",
              "      <td>MQVDIWIAWRISLEAGIQIKGRQQHSQKFLSDVCIQLIELKIPFHR...</td>\n",
              "      <td>66</td>\n",
              "      <td>198</td>\n",
              "    </tr>\n",
              "  </tbody>\n",
              "</table>\n",
              "<p>24766 rows × 3 columns</p>\n",
              "</div>\n",
              "      <button class=\"colab-df-convert\" onclick=\"convertToInteractive('df-98934159-3d34-4f73-816e-137c3ae1a25b')\"\n",
              "              title=\"Convert this dataframe to an interactive table.\"\n",
              "              style=\"display:none;\">\n",
              "\n",
              "  <svg xmlns=\"http://www.w3.org/2000/svg\" height=\"24px\"viewBox=\"0 0 24 24\"\n",
              "       width=\"24px\">\n",
              "    <path d=\"M0 0h24v24H0V0z\" fill=\"none\"/>\n",
              "    <path d=\"M18.56 5.44l.94 2.06.94-2.06 2.06-.94-2.06-.94-.94-2.06-.94 2.06-2.06.94zm-11 1L8.5 8.5l.94-2.06 2.06-.94-2.06-.94L8.5 2.5l-.94 2.06-2.06.94zm10 10l.94 2.06.94-2.06 2.06-.94-2.06-.94-.94-2.06-.94 2.06-2.06.94z\"/><path d=\"M17.41 7.96l-1.37-1.37c-.4-.4-.92-.59-1.43-.59-.52 0-1.04.2-1.43.59L10.3 9.45l-7.72 7.72c-.78.78-.78 2.05 0 2.83L4 21.41c.39.39.9.59 1.41.59.51 0 1.02-.2 1.41-.59l7.78-7.78 2.81-2.81c.8-.78.8-2.07 0-2.86zM5.41 20L4 18.59l7.72-7.72 1.47 1.35L5.41 20z\"/>\n",
              "  </svg>\n",
              "      </button>\n",
              "\n",
              "\n",
              "\n",
              "    <div id=\"df-823f9f3a-6e7a-4cee-9c74-a211f8125e95\">\n",
              "      <button class=\"colab-df-quickchart\" onclick=\"quickchart('df-823f9f3a-6e7a-4cee-9c74-a211f8125e95')\"\n",
              "              title=\"Suggest charts.\"\n",
              "              style=\"display:none;\">\n",
              "\n",
              "<svg xmlns=\"http://www.w3.org/2000/svg\" height=\"24px\"viewBox=\"0 0 24 24\"\n",
              "     width=\"24px\">\n",
              "    <g>\n",
              "        <path d=\"M19 3H5c-1.1 0-2 .9-2 2v14c0 1.1.9 2 2 2h14c1.1 0 2-.9 2-2V5c0-1.1-.9-2-2-2zM9 17H7v-7h2v7zm4 0h-2V7h2v10zm4 0h-2v-4h2v4z\"/>\n",
              "    </g>\n",
              "</svg>\n",
              "      </button>\n",
              "    </div>\n",
              "\n",
              "<style>\n",
              "  .colab-df-quickchart {\n",
              "    background-color: #E8F0FE;\n",
              "    border: none;\n",
              "    border-radius: 50%;\n",
              "    cursor: pointer;\n",
              "    display: none;\n",
              "    fill: #1967D2;\n",
              "    height: 32px;\n",
              "    padding: 0 0 0 0;\n",
              "    width: 32px;\n",
              "  }\n",
              "\n",
              "  .colab-df-quickchart:hover {\n",
              "    background-color: #E2EBFA;\n",
              "    box-shadow: 0px 1px 2px rgba(60, 64, 67, 0.3), 0px 1px 3px 1px rgba(60, 64, 67, 0.15);\n",
              "    fill: #174EA6;\n",
              "  }\n",
              "\n",
              "  [theme=dark] .colab-df-quickchart {\n",
              "    background-color: #3B4455;\n",
              "    fill: #D2E3FC;\n",
              "  }\n",
              "\n",
              "  [theme=dark] .colab-df-quickchart:hover {\n",
              "    background-color: #434B5C;\n",
              "    box-shadow: 0px 1px 3px 1px rgba(0, 0, 0, 0.15);\n",
              "    filter: drop-shadow(0px 1px 2px rgba(0, 0, 0, 0.3));\n",
              "    fill: #FFFFFF;\n",
              "  }\n",
              "</style>\n",
              "\n",
              "    <script>\n",
              "      async function quickchart(key) {\n",
              "        const containerElement = document.querySelector('#' + key);\n",
              "        const charts = await google.colab.kernel.invokeFunction(\n",
              "            'suggestCharts', [key], {});\n",
              "      }\n",
              "    </script>\n",
              "\n",
              "      <script>\n",
              "\n",
              "function displayQuickchartButton(domScope) {\n",
              "  let quickchartButtonEl =\n",
              "    domScope.querySelector('#df-823f9f3a-6e7a-4cee-9c74-a211f8125e95 button.colab-df-quickchart');\n",
              "  quickchartButtonEl.style.display =\n",
              "    google.colab.kernel.accessAllowed ? 'block' : 'none';\n",
              "}\n",
              "\n",
              "        displayQuickchartButton(document);\n",
              "      </script>\n",
              "      <style>\n",
              "    .colab-df-container {\n",
              "      display:flex;\n",
              "      flex-wrap:wrap;\n",
              "      gap: 12px;\n",
              "    }\n",
              "\n",
              "    .colab-df-convert {\n",
              "      background-color: #E8F0FE;\n",
              "      border: none;\n",
              "      border-radius: 50%;\n",
              "      cursor: pointer;\n",
              "      display: none;\n",
              "      fill: #1967D2;\n",
              "      height: 32px;\n",
              "      padding: 0 0 0 0;\n",
              "      width: 32px;\n",
              "    }\n",
              "\n",
              "    .colab-df-convert:hover {\n",
              "      background-color: #E2EBFA;\n",
              "      box-shadow: 0px 1px 2px rgba(60, 64, 67, 0.3), 0px 1px 3px 1px rgba(60, 64, 67, 0.15);\n",
              "      fill: #174EA6;\n",
              "    }\n",
              "\n",
              "    [theme=dark] .colab-df-convert {\n",
              "      background-color: #3B4455;\n",
              "      fill: #D2E3FC;\n",
              "    }\n",
              "\n",
              "    [theme=dark] .colab-df-convert:hover {\n",
              "      background-color: #434B5C;\n",
              "      box-shadow: 0px 1px 3px 1px rgba(0, 0, 0, 0.15);\n",
              "      filter: drop-shadow(0px 1px 2px rgba(0, 0, 0, 0.3));\n",
              "      fill: #FFFFFF;\n",
              "    }\n",
              "  </style>\n",
              "\n",
              "      <script>\n",
              "        const buttonEl =\n",
              "          document.querySelector('#df-98934159-3d34-4f73-816e-137c3ae1a25b button.colab-df-convert');\n",
              "        buttonEl.style.display =\n",
              "          google.colab.kernel.accessAllowed ? 'block' : 'none';\n",
              "\n",
              "        async function convertToInteractive(key) {\n",
              "          const element = document.querySelector('#df-98934159-3d34-4f73-816e-137c3ae1a25b');\n",
              "          const dataTable =\n",
              "            await google.colab.kernel.invokeFunction('convertToInteractive',\n",
              "                                                     [key], {});\n",
              "          if (!dataTable) return;\n",
              "\n",
              "          const docLinkHtml = 'Like what you see? Visit the ' +\n",
              "            '<a target=\"_blank\" href=https://colab.research.google.com/notebooks/data_table.ipynb>data table notebook</a>'\n",
              "            + ' to learn more about interactive tables.';\n",
              "          element.innerHTML = '';\n",
              "          dataTable['output_type'] = 'display_data';\n",
              "          await google.colab.output.renderOutput(dataTable, element);\n",
              "          const docLink = document.createElement('div');\n",
              "          docLink.innerHTML = docLinkHtml;\n",
              "          element.appendChild(docLink);\n",
              "        }\n",
              "      </script>\n",
              "    </div>\n",
              "  </div>\n"
            ]
          },
          "metadata": {},
          "execution_count": 91
        }
      ]
    },
    {
      "cell_type": "code",
      "source": [
        "# Medium Proteins\n",
        "medium_proteins_df = ch21code_df.loc[ch21code_df['protein length'] >= 10000]\n",
        "medium_proteins_df = medium_proteins_df.loc[medium_proteins_df['protein length'] <= 25000]\n",
        "print(\"Number of Medium Proteins: \" + str(len(medium_proteins_df)))\n",
        "medium_proteins_df"
      ],
      "metadata": {
        "colab": {
          "base_uri": "https://localhost:8080/",
          "height": 223
        },
        "id": "fy1mzEw_9Zko",
        "outputId": "73b90adb-93d8-40ff-f23b-19d4cbc40577"
      },
      "execution_count": null,
      "outputs": [
        {
          "output_type": "stream",
          "name": "stdout",
          "text": [
            "Number of Medium Proteins: 5\n"
          ]
        },
        {
          "output_type": "execute_result",
          "data": {
            "text/plain": [
              "                                     amino acid sequence  protein length  \\\n",
              "4547   M IXXXXXXXXXXXXXXXXXXXXXXXXXXXXXXXXXXXXXXXXXXX...           16721   \n",
              "5724   MYVYDLCRXXXXXXXXXXXXXXXXXXXXXXXXXXXXXXXXXXXXXX...           16680   \n",
              "6482   MVS IXXXXXXXXXXXXXXXXXXXXXXXXXXXXXXXXXXXXXXXXX...           16687   \n",
              "8289   MQK IXXXXXXXXXXXXXXXXXXXXXXXXXXXXXXXXXXXXXXXXX...           16743   \n",
              "11358  MPRTVNVLYTIKSRVLSILGXXXXXXXXXXXXXXXXXXXXXXXXXX...           16692   \n",
              "\n",
              "       nucleotides  \n",
              "4547         50163  \n",
              "5724         50040  \n",
              "6482         50061  \n",
              "8289         50229  \n",
              "11358        50076  "
            ],
            "text/html": [
              "\n",
              "\n",
              "  <div id=\"df-3003beb4-68b0-45ed-b68a-024960ddec3e\">\n",
              "    <div class=\"colab-df-container\">\n",
              "      <div>\n",
              "<style scoped>\n",
              "    .dataframe tbody tr th:only-of-type {\n",
              "        vertical-align: middle;\n",
              "    }\n",
              "\n",
              "    .dataframe tbody tr th {\n",
              "        vertical-align: top;\n",
              "    }\n",
              "\n",
              "    .dataframe thead th {\n",
              "        text-align: right;\n",
              "    }\n",
              "</style>\n",
              "<table border=\"1\" class=\"dataframe\">\n",
              "  <thead>\n",
              "    <tr style=\"text-align: right;\">\n",
              "      <th></th>\n",
              "      <th>amino acid sequence</th>\n",
              "      <th>protein length</th>\n",
              "      <th>nucleotides</th>\n",
              "    </tr>\n",
              "  </thead>\n",
              "  <tbody>\n",
              "    <tr>\n",
              "      <th>4547</th>\n",
              "      <td>M IXXXXXXXXXXXXXXXXXXXXXXXXXXXXXXXXXXXXXXXXXXX...</td>\n",
              "      <td>16721</td>\n",
              "      <td>50163</td>\n",
              "    </tr>\n",
              "    <tr>\n",
              "      <th>5724</th>\n",
              "      <td>MYVYDLCRXXXXXXXXXXXXXXXXXXXXXXXXXXXXXXXXXXXXXX...</td>\n",
              "      <td>16680</td>\n",
              "      <td>50040</td>\n",
              "    </tr>\n",
              "    <tr>\n",
              "      <th>6482</th>\n",
              "      <td>MVS IXXXXXXXXXXXXXXXXXXXXXXXXXXXXXXXXXXXXXXXXX...</td>\n",
              "      <td>16687</td>\n",
              "      <td>50061</td>\n",
              "    </tr>\n",
              "    <tr>\n",
              "      <th>8289</th>\n",
              "      <td>MQK IXXXXXXXXXXXXXXXXXXXXXXXXXXXXXXXXXXXXXXXXX...</td>\n",
              "      <td>16743</td>\n",
              "      <td>50229</td>\n",
              "    </tr>\n",
              "    <tr>\n",
              "      <th>11358</th>\n",
              "      <td>MPRTVNVLYTIKSRVLSILGXXXXXXXXXXXXXXXXXXXXXXXXXX...</td>\n",
              "      <td>16692</td>\n",
              "      <td>50076</td>\n",
              "    </tr>\n",
              "  </tbody>\n",
              "</table>\n",
              "</div>\n",
              "      <button class=\"colab-df-convert\" onclick=\"convertToInteractive('df-3003beb4-68b0-45ed-b68a-024960ddec3e')\"\n",
              "              title=\"Convert this dataframe to an interactive table.\"\n",
              "              style=\"display:none;\">\n",
              "\n",
              "  <svg xmlns=\"http://www.w3.org/2000/svg\" height=\"24px\"viewBox=\"0 0 24 24\"\n",
              "       width=\"24px\">\n",
              "    <path d=\"M0 0h24v24H0V0z\" fill=\"none\"/>\n",
              "    <path d=\"M18.56 5.44l.94 2.06.94-2.06 2.06-.94-2.06-.94-.94-2.06-.94 2.06-2.06.94zm-11 1L8.5 8.5l.94-2.06 2.06-.94-2.06-.94L8.5 2.5l-.94 2.06-2.06.94zm10 10l.94 2.06.94-2.06 2.06-.94-2.06-.94-.94-2.06-.94 2.06-2.06.94z\"/><path d=\"M17.41 7.96l-1.37-1.37c-.4-.4-.92-.59-1.43-.59-.52 0-1.04.2-1.43.59L10.3 9.45l-7.72 7.72c-.78.78-.78 2.05 0 2.83L4 21.41c.39.39.9.59 1.41.59.51 0 1.02-.2 1.41-.59l7.78-7.78 2.81-2.81c.8-.78.8-2.07 0-2.86zM5.41 20L4 18.59l7.72-7.72 1.47 1.35L5.41 20z\"/>\n",
              "  </svg>\n",
              "      </button>\n",
              "\n",
              "\n",
              "\n",
              "    <div id=\"df-38954224-c3f4-461e-a126-24ed228ba95a\">\n",
              "      <button class=\"colab-df-quickchart\" onclick=\"quickchart('df-38954224-c3f4-461e-a126-24ed228ba95a')\"\n",
              "              title=\"Suggest charts.\"\n",
              "              style=\"display:none;\">\n",
              "\n",
              "<svg xmlns=\"http://www.w3.org/2000/svg\" height=\"24px\"viewBox=\"0 0 24 24\"\n",
              "     width=\"24px\">\n",
              "    <g>\n",
              "        <path d=\"M19 3H5c-1.1 0-2 .9-2 2v14c0 1.1.9 2 2 2h14c1.1 0 2-.9 2-2V5c0-1.1-.9-2-2-2zM9 17H7v-7h2v7zm4 0h-2V7h2v10zm4 0h-2v-4h2v4z\"/>\n",
              "    </g>\n",
              "</svg>\n",
              "      </button>\n",
              "    </div>\n",
              "\n",
              "<style>\n",
              "  .colab-df-quickchart {\n",
              "    background-color: #E8F0FE;\n",
              "    border: none;\n",
              "    border-radius: 50%;\n",
              "    cursor: pointer;\n",
              "    display: none;\n",
              "    fill: #1967D2;\n",
              "    height: 32px;\n",
              "    padding: 0 0 0 0;\n",
              "    width: 32px;\n",
              "  }\n",
              "\n",
              "  .colab-df-quickchart:hover {\n",
              "    background-color: #E2EBFA;\n",
              "    box-shadow: 0px 1px 2px rgba(60, 64, 67, 0.3), 0px 1px 3px 1px rgba(60, 64, 67, 0.15);\n",
              "    fill: #174EA6;\n",
              "  }\n",
              "\n",
              "  [theme=dark] .colab-df-quickchart {\n",
              "    background-color: #3B4455;\n",
              "    fill: #D2E3FC;\n",
              "  }\n",
              "\n",
              "  [theme=dark] .colab-df-quickchart:hover {\n",
              "    background-color: #434B5C;\n",
              "    box-shadow: 0px 1px 3px 1px rgba(0, 0, 0, 0.15);\n",
              "    filter: drop-shadow(0px 1px 2px rgba(0, 0, 0, 0.3));\n",
              "    fill: #FFFFFF;\n",
              "  }\n",
              "</style>\n",
              "\n",
              "    <script>\n",
              "      async function quickchart(key) {\n",
              "        const containerElement = document.querySelector('#' + key);\n",
              "        const charts = await google.colab.kernel.invokeFunction(\n",
              "            'suggestCharts', [key], {});\n",
              "      }\n",
              "    </script>\n",
              "\n",
              "      <script>\n",
              "\n",
              "function displayQuickchartButton(domScope) {\n",
              "  let quickchartButtonEl =\n",
              "    domScope.querySelector('#df-38954224-c3f4-461e-a126-24ed228ba95a button.colab-df-quickchart');\n",
              "  quickchartButtonEl.style.display =\n",
              "    google.colab.kernel.accessAllowed ? 'block' : 'none';\n",
              "}\n",
              "\n",
              "        displayQuickchartButton(document);\n",
              "      </script>\n",
              "      <style>\n",
              "    .colab-df-container {\n",
              "      display:flex;\n",
              "      flex-wrap:wrap;\n",
              "      gap: 12px;\n",
              "    }\n",
              "\n",
              "    .colab-df-convert {\n",
              "      background-color: #E8F0FE;\n",
              "      border: none;\n",
              "      border-radius: 50%;\n",
              "      cursor: pointer;\n",
              "      display: none;\n",
              "      fill: #1967D2;\n",
              "      height: 32px;\n",
              "      padding: 0 0 0 0;\n",
              "      width: 32px;\n",
              "    }\n",
              "\n",
              "    .colab-df-convert:hover {\n",
              "      background-color: #E2EBFA;\n",
              "      box-shadow: 0px 1px 2px rgba(60, 64, 67, 0.3), 0px 1px 3px 1px rgba(60, 64, 67, 0.15);\n",
              "      fill: #174EA6;\n",
              "    }\n",
              "\n",
              "    [theme=dark] .colab-df-convert {\n",
              "      background-color: #3B4455;\n",
              "      fill: #D2E3FC;\n",
              "    }\n",
              "\n",
              "    [theme=dark] .colab-df-convert:hover {\n",
              "      background-color: #434B5C;\n",
              "      box-shadow: 0px 1px 3px 1px rgba(0, 0, 0, 0.15);\n",
              "      filter: drop-shadow(0px 1px 2px rgba(0, 0, 0, 0.3));\n",
              "      fill: #FFFFFF;\n",
              "    }\n",
              "  </style>\n",
              "\n",
              "      <script>\n",
              "        const buttonEl =\n",
              "          document.querySelector('#df-3003beb4-68b0-45ed-b68a-024960ddec3e button.colab-df-convert');\n",
              "        buttonEl.style.display =\n",
              "          google.colab.kernel.accessAllowed ? 'block' : 'none';\n",
              "\n",
              "        async function convertToInteractive(key) {\n",
              "          const element = document.querySelector('#df-3003beb4-68b0-45ed-b68a-024960ddec3e');\n",
              "          const dataTable =\n",
              "            await google.colab.kernel.invokeFunction('convertToInteractive',\n",
              "                                                     [key], {});\n",
              "          if (!dataTable) return;\n",
              "\n",
              "          const docLinkHtml = 'Like what you see? Visit the ' +\n",
              "            '<a target=\"_blank\" href=https://colab.research.google.com/notebooks/data_table.ipynb>data table notebook</a>'\n",
              "            + ' to learn more about interactive tables.';\n",
              "          element.innerHTML = '';\n",
              "          dataTable['output_type'] = 'display_data';\n",
              "          await google.colab.output.renderOutput(dataTable, element);\n",
              "          const docLink = document.createElement('div');\n",
              "          docLink.innerHTML = docLinkHtml;\n",
              "          element.appendChild(docLink);\n",
              "        }\n",
              "      </script>\n",
              "    </div>\n",
              "  </div>\n"
            ]
          },
          "metadata": {},
          "execution_count": 92
        }
      ]
    },
    {
      "cell_type": "code",
      "source": [
        "large_protein = ch21code_df.loc[ch21code_df['protein length'] > 25000]\n",
        "large_protein"
      ],
      "metadata": {
        "colab": {
          "base_uri": "https://localhost:8080/",
          "height": 81
        },
        "id": "_THmoaki9bqW",
        "outputId": "87c8f21d-4c75-4970-d55c-0885c7a91509"
      },
      "execution_count": null,
      "outputs": [
        {
          "output_type": "execute_result",
          "data": {
            "text/plain": [
              "                                     amino acid sequence  protein length  \\\n",
              "16362  MAYNQVKYLNTPLFK IXXXXXXXXXXXXXXXXXXXXXXXXXXXXX...           33362   \n",
              "\n",
              "       nucleotides  \n",
              "16362       100086  "
            ],
            "text/html": [
              "\n",
              "\n",
              "  <div id=\"df-9a063831-1dd1-404a-bf53-7f05d5f2d8a9\">\n",
              "    <div class=\"colab-df-container\">\n",
              "      <div>\n",
              "<style scoped>\n",
              "    .dataframe tbody tr th:only-of-type {\n",
              "        vertical-align: middle;\n",
              "    }\n",
              "\n",
              "    .dataframe tbody tr th {\n",
              "        vertical-align: top;\n",
              "    }\n",
              "\n",
              "    .dataframe thead th {\n",
              "        text-align: right;\n",
              "    }\n",
              "</style>\n",
              "<table border=\"1\" class=\"dataframe\">\n",
              "  <thead>\n",
              "    <tr style=\"text-align: right;\">\n",
              "      <th></th>\n",
              "      <th>amino acid sequence</th>\n",
              "      <th>protein length</th>\n",
              "      <th>nucleotides</th>\n",
              "    </tr>\n",
              "  </thead>\n",
              "  <tbody>\n",
              "    <tr>\n",
              "      <th>16362</th>\n",
              "      <td>MAYNQVKYLNTPLFK IXXXXXXXXXXXXXXXXXXXXXXXXXXXXX...</td>\n",
              "      <td>33362</td>\n",
              "      <td>100086</td>\n",
              "    </tr>\n",
              "  </tbody>\n",
              "</table>\n",
              "</div>\n",
              "      <button class=\"colab-df-convert\" onclick=\"convertToInteractive('df-9a063831-1dd1-404a-bf53-7f05d5f2d8a9')\"\n",
              "              title=\"Convert this dataframe to an interactive table.\"\n",
              "              style=\"display:none;\">\n",
              "\n",
              "  <svg xmlns=\"http://www.w3.org/2000/svg\" height=\"24px\"viewBox=\"0 0 24 24\"\n",
              "       width=\"24px\">\n",
              "    <path d=\"M0 0h24v24H0V0z\" fill=\"none\"/>\n",
              "    <path d=\"M18.56 5.44l.94 2.06.94-2.06 2.06-.94-2.06-.94-.94-2.06-.94 2.06-2.06.94zm-11 1L8.5 8.5l.94-2.06 2.06-.94-2.06-.94L8.5 2.5l-.94 2.06-2.06.94zm10 10l.94 2.06.94-2.06 2.06-.94-2.06-.94-.94-2.06-.94 2.06-2.06.94z\"/><path d=\"M17.41 7.96l-1.37-1.37c-.4-.4-.92-.59-1.43-.59-.52 0-1.04.2-1.43.59L10.3 9.45l-7.72 7.72c-.78.78-.78 2.05 0 2.83L4 21.41c.39.39.9.59 1.41.59.51 0 1.02-.2 1.41-.59l7.78-7.78 2.81-2.81c.8-.78.8-2.07 0-2.86zM5.41 20L4 18.59l7.72-7.72 1.47 1.35L5.41 20z\"/>\n",
              "  </svg>\n",
              "      </button>\n",
              "\n",
              "\n",
              "\n",
              "    <div id=\"df-5f27e23b-133c-4ed0-a658-d5920c5480e3\">\n",
              "      <button class=\"colab-df-quickchart\" onclick=\"quickchart('df-5f27e23b-133c-4ed0-a658-d5920c5480e3')\"\n",
              "              title=\"Suggest charts.\"\n",
              "              style=\"display:none;\">\n",
              "\n",
              "<svg xmlns=\"http://www.w3.org/2000/svg\" height=\"24px\"viewBox=\"0 0 24 24\"\n",
              "     width=\"24px\">\n",
              "    <g>\n",
              "        <path d=\"M19 3H5c-1.1 0-2 .9-2 2v14c0 1.1.9 2 2 2h14c1.1 0 2-.9 2-2V5c0-1.1-.9-2-2-2zM9 17H7v-7h2v7zm4 0h-2V7h2v10zm4 0h-2v-4h2v4z\"/>\n",
              "    </g>\n",
              "</svg>\n",
              "      </button>\n",
              "    </div>\n",
              "\n",
              "<style>\n",
              "  .colab-df-quickchart {\n",
              "    background-color: #E8F0FE;\n",
              "    border: none;\n",
              "    border-radius: 50%;\n",
              "    cursor: pointer;\n",
              "    display: none;\n",
              "    fill: #1967D2;\n",
              "    height: 32px;\n",
              "    padding: 0 0 0 0;\n",
              "    width: 32px;\n",
              "  }\n",
              "\n",
              "  .colab-df-quickchart:hover {\n",
              "    background-color: #E2EBFA;\n",
              "    box-shadow: 0px 1px 2px rgba(60, 64, 67, 0.3), 0px 1px 3px 1px rgba(60, 64, 67, 0.15);\n",
              "    fill: #174EA6;\n",
              "  }\n",
              "\n",
              "  [theme=dark] .colab-df-quickchart {\n",
              "    background-color: #3B4455;\n",
              "    fill: #D2E3FC;\n",
              "  }\n",
              "\n",
              "  [theme=dark] .colab-df-quickchart:hover {\n",
              "    background-color: #434B5C;\n",
              "    box-shadow: 0px 1px 3px 1px rgba(0, 0, 0, 0.15);\n",
              "    filter: drop-shadow(0px 1px 2px rgba(0, 0, 0, 0.3));\n",
              "    fill: #FFFFFF;\n",
              "  }\n",
              "</style>\n",
              "\n",
              "    <script>\n",
              "      async function quickchart(key) {\n",
              "        const containerElement = document.querySelector('#' + key);\n",
              "        const charts = await google.colab.kernel.invokeFunction(\n",
              "            'suggestCharts', [key], {});\n",
              "      }\n",
              "    </script>\n",
              "\n",
              "      <script>\n",
              "\n",
              "function displayQuickchartButton(domScope) {\n",
              "  let quickchartButtonEl =\n",
              "    domScope.querySelector('#df-5f27e23b-133c-4ed0-a658-d5920c5480e3 button.colab-df-quickchart');\n",
              "  quickchartButtonEl.style.display =\n",
              "    google.colab.kernel.accessAllowed ? 'block' : 'none';\n",
              "}\n",
              "\n",
              "        displayQuickchartButton(document);\n",
              "      </script>\n",
              "      <style>\n",
              "    .colab-df-container {\n",
              "      display:flex;\n",
              "      flex-wrap:wrap;\n",
              "      gap: 12px;\n",
              "    }\n",
              "\n",
              "    .colab-df-convert {\n",
              "      background-color: #E8F0FE;\n",
              "      border: none;\n",
              "      border-radius: 50%;\n",
              "      cursor: pointer;\n",
              "      display: none;\n",
              "      fill: #1967D2;\n",
              "      height: 32px;\n",
              "      padding: 0 0 0 0;\n",
              "      width: 32px;\n",
              "    }\n",
              "\n",
              "    .colab-df-convert:hover {\n",
              "      background-color: #E2EBFA;\n",
              "      box-shadow: 0px 1px 2px rgba(60, 64, 67, 0.3), 0px 1px 3px 1px rgba(60, 64, 67, 0.15);\n",
              "      fill: #174EA6;\n",
              "    }\n",
              "\n",
              "    [theme=dark] .colab-df-convert {\n",
              "      background-color: #3B4455;\n",
              "      fill: #D2E3FC;\n",
              "    }\n",
              "\n",
              "    [theme=dark] .colab-df-convert:hover {\n",
              "      background-color: #434B5C;\n",
              "      box-shadow: 0px 1px 3px 1px rgba(0, 0, 0, 0.15);\n",
              "      filter: drop-shadow(0px 1px 2px rgba(0, 0, 0, 0.3));\n",
              "      fill: #FFFFFF;\n",
              "    }\n",
              "  </style>\n",
              "\n",
              "      <script>\n",
              "        const buttonEl =\n",
              "          document.querySelector('#df-9a063831-1dd1-404a-bf53-7f05d5f2d8a9 button.colab-df-convert');\n",
              "        buttonEl.style.display =\n",
              "          google.colab.kernel.accessAllowed ? 'block' : 'none';\n",
              "\n",
              "        async function convertToInteractive(key) {\n",
              "          const element = document.querySelector('#df-9a063831-1dd1-404a-bf53-7f05d5f2d8a9');\n",
              "          const dataTable =\n",
              "            await google.colab.kernel.invokeFunction('convertToInteractive',\n",
              "                                                     [key], {});\n",
              "          if (!dataTable) return;\n",
              "\n",
              "          const docLinkHtml = 'Like what you see? Visit the ' +\n",
              "            '<a target=\"_blank\" href=https://colab.research.google.com/notebooks/data_table.ipynb>data table notebook</a>'\n",
              "            + ' to learn more about interactive tables.';\n",
              "          element.innerHTML = '';\n",
              "          dataTable['output_type'] = 'display_data';\n",
              "          await google.colab.output.renderOutput(dataTable, element);\n",
              "          const docLink = document.createElement('div');\n",
              "          docLink.innerHTML = docLinkHtml;\n",
              "          element.appendChild(docLink);\n",
              "        }\n",
              "      </script>\n",
              "    </div>\n",
              "  </div>\n"
            ]
          },
          "metadata": {},
          "execution_count": 93
        }
      ]
    },
    {
      "cell_type": "code",
      "source": [
        "# Examine sequences of medium-sized proteins for abundance of 'X (unidentified sequence)\n",
        "for protein in medium_proteins_df['amino acid sequence']:\n",
        "  print(protein[:100] + \"\\n\")"
      ],
      "metadata": {
        "colab": {
          "base_uri": "https://localhost:8080/"
        },
        "id": "HIAt55qY9d-U",
        "outputId": "31b83af5-03e5-4d66-fd4a-fb904d2e058d"
      },
      "execution_count": null,
      "outputs": [
        {
          "output_type": "stream",
          "name": "stdout",
          "text": [
            "M IXXXXXXXXXXXXXXXXXXXXXXXXXXXXXXXXXXXXXXXXXXXXXXXXXXXXXXXXXXXXXXXXXXXXXXXXXXXXXXXXXXXXXXXXXXXXXXXXX\n",
            "\n",
            "MYVYDLCRXXXXXXXXXXXXXXXXXXXXXXXXXXXXXXXXXXXXXXXXXXXXXXXXXXXXXXXXXXXXXXXXXXXXXXXXXXXXXXXXXXXXXXXXXXXX\n",
            "\n",
            "MVS IXXXXXXXXXXXXXXXXXXXXXXXXXXXXXXXXXXXXXXXXXXXXXXXXXXXXXXXXXXXXXXXXXXXXXXXXXXXXXXXXXXXXXXXXXXXXXXX\n",
            "\n",
            "MQK IXXXXXXXXXXXXXXXXXXXXXXXXXXXXXXXXXXXXXXXXXXXXXXXXXXXXXXXXXXXXXXXXXXXXXXXXXXXXXXXXXXXXXXXXXXXXXXX\n",
            "\n",
            "MPRTVNVLYTIKSRVLSILGXXXXXXXXXXXXXXXXXXXXXXXXXXXXXXXXXXXXXXXXXXXXXXXXXXXXXXXXXXXXXXXXXXXXXXXXXXXXXXXX\n",
            "\n"
          ]
        }
      ]
    },
    {
      "cell_type": "code",
      "source": [
        "# Examine large protein for abundance of 'X' (unidentified sequence)\n",
        "large_protein.at[16362, 'amino acid sequence'][:1000]"
      ],
      "metadata": {
        "colab": {
          "base_uri": "https://localhost:8080/",
          "height": 140
        },
        "id": "FfuBWB1k9nUP",
        "outputId": "13fd40d0-3213-4c57-e1ce-e4fa3fc587ae"
      },
      "execution_count": null,
      "outputs": [
        {
          "output_type": "execute_result",
          "data": {
            "text/plain": [
              "'MAYNQVKYLNTPLFK IXXXXXXXXXXXXXXXXXXXXXXXXXXXXXXXXXXXXXXXXXXXXXXXXXXXXXXXXXXXXXXXXXXXXXXXXXXXXXXXXXXXXXXXXXXXXXXXXXXXXXXXXXXXXXXXXXXXXXXXXXXXXXXXXXXXXXXXXXXXXXXXXXXXXXXXXXXXXXXXXXXXXXXXXXXXXXXXXXXXXXXXXXXXXXXXXXXXXXXXXXXXXXXXXXXXXXXXXXXXXXXXXXXXXXXXXXXXXXXXXXXXXXXXXXXXXXXXXXXXXXXXXXXXXXXXXXXXXXXXXXXXXXXXXXXXXXXXXXXXXXXXXXXXXXXXXXXXXXXXXXXXXXXXXXXXXXXXXXXXXXXXXXXXXXXXXXXXXXXXXXXXXXXXXXXXXXXXXXXXXXXXXXXXXXXXXXXXXXXXXXXXXXXXXXXXXXXXXXXXXXXXXXXXXXXXXXXXXXXXXXXXXXXXXXXXXXXXXXXXXXXXXXXXXXXXXXXXXXXXXXXXXXXXXXXXXXXXXXXXXXXXXXXXXXXXXXXXXXXXXXXXXXXXXXXXXXXXXXXXXXXXXXXXXXXXXXXXXXXXXXXXXXXXXXXXXXXXXXXXXXXXXXXXXXXXXXXXXXXXXXXXXXXXXXXXXXXXXXXXXXXXXXXXXXXXXXXXXXXXXXXXXXXXXXXXXXXXXXXXXXXXXXXXXXXXXXXXXXXXXXXXXXXXXXXXXXXXXXXXXXXXXXXXXXXXXXXXXXXXXXXXXXXXXXXXXXXXXXXXXXXXXXXXXXXXXXXXXXXXXXXXXXXXXXXXXXXXXXXXXXXXXXXXXXXXXXXXXXXXXXXXXXXXXXXXXXXXXXXXXXXXXXXXXXXXXXXXXXXXXXXXXXXXXXXXXXXXXXXXXXXXXXXXXXXXXXXXXXXXXXXXXXXXXXXXXXXXXXXXXXXXXXXXXXXXXXXXXXXXXXXXXXXXXXXXXXXXXXXXXXXXXXXXXXXXXXXXXXXXXXXXXXXXXXXXXXXXXXXXXXXX'"
            ],
            "application/vnd.google.colaboratory.intrinsic+json": {
              "type": "string"
            }
          },
          "metadata": {},
          "execution_count": 95
        }
      ]
    },
    {
      "cell_type": "markdown",
      "source": [
        "We can see that the protein sequences for medium-size and large proteins for the most part consist of 'X', so we'll ignore these protein sequences, and create another histogram to better visualize the smaller proteins."
      ],
      "metadata": {
        "id": "KXAl6FZifDzl"
      }
    },
    {
      "cell_type": "code",
      "source": [
        "# Histogram, excluding the large proteins with unidentified sequence data\n",
        "\n",
        "# Create histogram\n",
        "plt.figure(figsize=(15, 10)) # Adjust scatterplot size\n",
        "small_proteins_df['protein length'].plot(kind='hist', bins=100, logy=True,\n",
        "                                   color= 'c') # Input data\n",
        "plt.title(\"Protein Lengths in Homo Sapiens Chromosome 21\", fontsize = 20) # Title\n",
        "plt.xlabel(\"Protein Length (Number of Codons)\", fontsize = 15) # x-axis\n",
        "plt.ylabel(\"Frequency\", fontsize = 15) # y-axis\n",
        "sns.set_style('darkgrid')\n",
        "plt.show()"
      ],
      "metadata": {
        "id": "FmpC0pDV9v8j",
        "outputId": "0c633a21-494c-4f93-bf5b-1e9e4f801e02",
        "colab": {
          "base_uri": "https://localhost:8080/",
          "height": 797
        }
      },
      "execution_count": null,
      "outputs": [
        {
          "output_type": "display_data",
          "data": {
            "text/plain": [
              "<Figure size 1500x1000 with 1 Axes>"
            ],
            "image/png": "[encoded data removed]"
          },
          "metadata": {}
        }
      ]
    }
  ]
}